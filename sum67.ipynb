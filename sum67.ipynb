{
 "cells": [
  {
   "cell_type": "markdown",
   "id": "a6f6bcd2",
   "metadata": {},
   "source": [
    "# List-2 > sum67"
   ]
  },
  {
   "cell_type": "markdown",
   "id": "c6310a83",
   "metadata": {},
   "source": [
    "Return the sum of the numbers in the array, except ignore sections of numbers starting with a 6 and extending to the next 7 (every 6 will be followed by at least one 7). Return 0 for no numbers.\n",
    "\n",
    "\n",
    "sum67([1, 2, 2]) → 5\n",
    "\n",
    "sum67([1, 2, 2, 6, 99, 99, 7]) → 5\n",
    "\n",
    "sum67([1, 1, 6, 7, 2]) → 4"
   ]
  },
  {
   "cell_type": "code",
   "execution_count": 1,
   "id": "a596f7d6",
   "metadata": {},
   "outputs": [],
   "source": [
    "def sum67(nums):\n",
    "    count = True\n",
    "    total = 0\n",
    "    \n",
    "    for num in nums:\n",
    "        if num == 6:\n",
    "            count = False\n",
    "      \n",
    "        if count == True:\n",
    "            total += num\n",
    "      \n",
    "        if num == 7:\n",
    "            count = True\n",
    "    \n",
    "    return total"
   ]
  }
 ],
 "metadata": {
  "kernelspec": {
   "display_name": "Python 3 (ipykernel)",
   "language": "python",
   "name": "python3"
  },
  "language_info": {
   "codemirror_mode": {
    "name": "ipython",
    "version": 3
   },
   "file_extension": ".py",
   "mimetype": "text/x-python",
   "name": "python",
   "nbconvert_exporter": "python",
   "pygments_lexer": "ipython3",
   "version": "3.9.12"
  }
 },
 "nbformat": 4,
 "nbformat_minor": 5
}
